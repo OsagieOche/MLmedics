{
  "nbformat": 4,
  "nbformat_minor": 0,
  "metadata": {
    "colab": {
      "name": "ML medics exercise.ipynb",
      "version": "0.3.2",
      "provenance": [],
      "collapsed_sections": [],
      "toc_visible": true,
      "include_colab_link": true
    },
    "kernelspec": {
      "name": "python3",
      "display_name": "Python 3"
    }
  },
  "cells": [
    {
      "cell_type": "markdown",
      "metadata": {
        "id": "view-in-github",
        "colab_type": "text"
      },
      "source": [
        "<a href=\"https://colab.research.google.com/github/chris-lovejoy/MLmedics/blob/master/Breast_cancer_features.ipynb\" target=\"_parent\"><img src=\"https://colab.research.google.com/assets/colab-badge.svg\" alt=\"Open In Colab\"/></a>"
      ]
    },
    {
      "cell_type": "markdown",
      "metadata": {
        "id": "LtYqsM_m2CxS",
        "colab_type": "text"
      },
      "source": [
        "## Upload the data and get into the right directory\n"
      ]
    },
    {
      "cell_type": "markdown",
      "metadata": {
        "id": "cfOtES0U2Hmh",
        "colab_type": "text"
      },
      "source": [
        "Download the Kaggle dataset by clicking [here](https://www.kaggle.com/uciml/breast-cancer-wisconsin-data/downloads/breast-cancer-wisconsin-data.zip/2), and unzip it on your computer.\n",
        "\n",
        "Upload the 'data.csv' file on the left, by clicking on 'Files' then on 'Upload'."
      ]
    },
    {
      "cell_type": "code",
      "metadata": {
        "id": "Q4yofW1C3vII",
        "colab_type": "code",
        "outputId": "a470c381-32ec-4348-d031-67af824e3d37",
        "colab": {
          "base_uri": "https://localhost:8080/",
          "height": 87
        }
      },
      "source": [
        "cd ../"
      ],
      "execution_count": 0,
      "outputs": [
        {
          "output_type": "stream",
          "text": [
            "\u001b[0m\u001b[01;34mbin\u001b[0m/      \u001b[01;34mdatalab\u001b[0m/  \u001b[01;34mlib\u001b[0m/    \u001b[01;34mmnt\u001b[0m/   \u001b[01;34mrun\u001b[0m/    \u001b[01;34msys\u001b[0m/                   \u001b[01;34musr\u001b[0m/\n",
            "\u001b[01;34mboot\u001b[0m/     \u001b[01;34mdev\u001b[0m/      \u001b[01;34mlib32\u001b[0m/  \u001b[01;34mopt\u001b[0m/   \u001b[01;34msbin\u001b[0m/   \u001b[01;34mtensorflow-2.0.0-rc0\u001b[0m/  \u001b[01;34mvar\u001b[0m/\n",
            "\u001b[01;34mcontent\u001b[0m/  \u001b[01;34metc\u001b[0m/      \u001b[01;34mlib64\u001b[0m/  \u001b[01;34mproc\u001b[0m/  \u001b[01;34msrv\u001b[0m/    \u001b[30;42mtmp\u001b[0m/\n",
            "data.csv  \u001b[01;34mhome\u001b[0m/     \u001b[01;34mmedia\u001b[0m/  \u001b[01;34mroot\u001b[0m/  \u001b[01;34mswift\u001b[0m/  \u001b[01;34mtools\u001b[0m/\n"
          ],
          "name": "stdout"
        }
      ]
    },
    {
      "cell_type": "code",
      "metadata": {
        "id": "guc0FDxK31Ji",
        "colab_type": "code",
        "colab": {}
      },
      "source": [
        "ls"
      ],
      "execution_count": 0,
      "outputs": []
    },
    {
      "cell_type": "code",
      "metadata": {
        "id": "gwlZVhvy2E9d",
        "colab_type": "code",
        "colab": {}
      },
      "source": [
        "# Install dependencies\n",
        "import pandas as pd\n"
      ],
      "execution_count": 0,
      "outputs": []
    },
    {
      "cell_type": "code",
      "metadata": {
        "id": "MawxHV0a2FK_",
        "colab_type": "code",
        "colab": {}
      },
      "source": [
        "# Load our data as a dataframe\n",
        "df = pd.read_csv('data.csv')"
      ],
      "execution_count": 0,
      "outputs": []
    },
    {
      "cell_type": "markdown",
      "metadata": {
        "id": "jINT4prY4F9w",
        "colab_type": "text"
      },
      "source": [
        "## Visualise our data"
      ]
    },
    {
      "cell_type": "code",
      "metadata": {
        "id": "_bJ3NsdB1-0Y",
        "colab_type": "code",
        "outputId": "4ac06e70-1a75-44e5-f7a4-521d580223fe",
        "colab": {
          "base_uri": "https://localhost:8080/",
          "height": 234
        }
      },
      "source": [
        "# Look at the top of the table\n",
        "df.head()"
      ],
      "execution_count": 0,
      "outputs": [
        {
          "output_type": "execute_result",
          "data": {
            "text/html": [
              "<div>\n",
              "<style scoped>\n",
              "    .dataframe tbody tr th:only-of-type {\n",
              "        vertical-align: middle;\n",
              "    }\n",
              "\n",
              "    .dataframe tbody tr th {\n",
              "        vertical-align: top;\n",
              "    }\n",
              "\n",
              "    .dataframe thead th {\n",
              "        text-align: right;\n",
              "    }\n",
              "</style>\n",
              "<table border=\"1\" class=\"dataframe\">\n",
              "  <thead>\n",
              "    <tr style=\"text-align: right;\">\n",
              "      <th></th>\n",
              "      <th>diagnosis</th>\n",
              "      <th>radius_mean</th>\n",
              "      <th>texture_mean</th>\n",
              "      <th>perimeter_mean</th>\n",
              "      <th>area_mean</th>\n",
              "      <th>smoothness_mean</th>\n",
              "      <th>compactness_mean</th>\n",
              "      <th>concavity_mean</th>\n",
              "      <th>concave points_mean</th>\n",
              "      <th>symmetry_mean</th>\n",
              "      <th>fractal_dimension_mean</th>\n",
              "      <th>radius_se</th>\n",
              "      <th>texture_se</th>\n",
              "      <th>perimeter_se</th>\n",
              "      <th>area_se</th>\n",
              "      <th>smoothness_se</th>\n",
              "      <th>compactness_se</th>\n",
              "      <th>concavity_se</th>\n",
              "      <th>concave points_se</th>\n",
              "      <th>symmetry_se</th>\n",
              "      <th>fractal_dimension_se</th>\n",
              "      <th>radius_worst</th>\n",
              "      <th>texture_worst</th>\n",
              "      <th>perimeter_worst</th>\n",
              "      <th>area_worst</th>\n",
              "      <th>smoothness_worst</th>\n",
              "      <th>compactness_worst</th>\n",
              "      <th>concavity_worst</th>\n",
              "      <th>concave points_worst</th>\n",
              "      <th>symmetry_worst</th>\n",
              "      <th>fractal_dimension_worst</th>\n",
              "    </tr>\n",
              "  </thead>\n",
              "  <tbody>\n",
              "    <tr>\n",
              "      <th>0</th>\n",
              "      <td>1</td>\n",
              "      <td>17.99</td>\n",
              "      <td>10.38</td>\n",
              "      <td>122.80</td>\n",
              "      <td>1001.0</td>\n",
              "      <td>0.11840</td>\n",
              "      <td>0.27760</td>\n",
              "      <td>0.3001</td>\n",
              "      <td>0.14710</td>\n",
              "      <td>0.2419</td>\n",
              "      <td>0.07871</td>\n",
              "      <td>1.0950</td>\n",
              "      <td>0.9053</td>\n",
              "      <td>8.589</td>\n",
              "      <td>153.40</td>\n",
              "      <td>0.006399</td>\n",
              "      <td>0.04904</td>\n",
              "      <td>0.05373</td>\n",
              "      <td>0.01587</td>\n",
              "      <td>0.03003</td>\n",
              "      <td>0.006193</td>\n",
              "      <td>25.38</td>\n",
              "      <td>17.33</td>\n",
              "      <td>184.60</td>\n",
              "      <td>2019.0</td>\n",
              "      <td>0.1622</td>\n",
              "      <td>0.6656</td>\n",
              "      <td>0.7119</td>\n",
              "      <td>0.2654</td>\n",
              "      <td>0.4601</td>\n",
              "      <td>0.11890</td>\n",
              "    </tr>\n",
              "    <tr>\n",
              "      <th>1</th>\n",
              "      <td>1</td>\n",
              "      <td>20.57</td>\n",
              "      <td>17.77</td>\n",
              "      <td>132.90</td>\n",
              "      <td>1326.0</td>\n",
              "      <td>0.08474</td>\n",
              "      <td>0.07864</td>\n",
              "      <td>0.0869</td>\n",
              "      <td>0.07017</td>\n",
              "      <td>0.1812</td>\n",
              "      <td>0.05667</td>\n",
              "      <td>0.5435</td>\n",
              "      <td>0.7339</td>\n",
              "      <td>3.398</td>\n",
              "      <td>74.08</td>\n",
              "      <td>0.005225</td>\n",
              "      <td>0.01308</td>\n",
              "      <td>0.01860</td>\n",
              "      <td>0.01340</td>\n",
              "      <td>0.01389</td>\n",
              "      <td>0.003532</td>\n",
              "      <td>24.99</td>\n",
              "      <td>23.41</td>\n",
              "      <td>158.80</td>\n",
              "      <td>1956.0</td>\n",
              "      <td>0.1238</td>\n",
              "      <td>0.1866</td>\n",
              "      <td>0.2416</td>\n",
              "      <td>0.1860</td>\n",
              "      <td>0.2750</td>\n",
              "      <td>0.08902</td>\n",
              "    </tr>\n",
              "    <tr>\n",
              "      <th>2</th>\n",
              "      <td>1</td>\n",
              "      <td>19.69</td>\n",
              "      <td>21.25</td>\n",
              "      <td>130.00</td>\n",
              "      <td>1203.0</td>\n",
              "      <td>0.10960</td>\n",
              "      <td>0.15990</td>\n",
              "      <td>0.1974</td>\n",
              "      <td>0.12790</td>\n",
              "      <td>0.2069</td>\n",
              "      <td>0.05999</td>\n",
              "      <td>0.7456</td>\n",
              "      <td>0.7869</td>\n",
              "      <td>4.585</td>\n",
              "      <td>94.03</td>\n",
              "      <td>0.006150</td>\n",
              "      <td>0.04006</td>\n",
              "      <td>0.03832</td>\n",
              "      <td>0.02058</td>\n",
              "      <td>0.02250</td>\n",
              "      <td>0.004571</td>\n",
              "      <td>23.57</td>\n",
              "      <td>25.53</td>\n",
              "      <td>152.50</td>\n",
              "      <td>1709.0</td>\n",
              "      <td>0.1444</td>\n",
              "      <td>0.4245</td>\n",
              "      <td>0.4504</td>\n",
              "      <td>0.2430</td>\n",
              "      <td>0.3613</td>\n",
              "      <td>0.08758</td>\n",
              "    </tr>\n",
              "    <tr>\n",
              "      <th>3</th>\n",
              "      <td>1</td>\n",
              "      <td>11.42</td>\n",
              "      <td>20.38</td>\n",
              "      <td>77.58</td>\n",
              "      <td>386.1</td>\n",
              "      <td>0.14250</td>\n",
              "      <td>0.28390</td>\n",
              "      <td>0.2414</td>\n",
              "      <td>0.10520</td>\n",
              "      <td>0.2597</td>\n",
              "      <td>0.09744</td>\n",
              "      <td>0.4956</td>\n",
              "      <td>1.1560</td>\n",
              "      <td>3.445</td>\n",
              "      <td>27.23</td>\n",
              "      <td>0.009110</td>\n",
              "      <td>0.07458</td>\n",
              "      <td>0.05661</td>\n",
              "      <td>0.01867</td>\n",
              "      <td>0.05963</td>\n",
              "      <td>0.009208</td>\n",
              "      <td>14.91</td>\n",
              "      <td>26.50</td>\n",
              "      <td>98.87</td>\n",
              "      <td>567.7</td>\n",
              "      <td>0.2098</td>\n",
              "      <td>0.8663</td>\n",
              "      <td>0.6869</td>\n",
              "      <td>0.2575</td>\n",
              "      <td>0.6638</td>\n",
              "      <td>0.17300</td>\n",
              "    </tr>\n",
              "    <tr>\n",
              "      <th>4</th>\n",
              "      <td>1</td>\n",
              "      <td>20.29</td>\n",
              "      <td>14.34</td>\n",
              "      <td>135.10</td>\n",
              "      <td>1297.0</td>\n",
              "      <td>0.10030</td>\n",
              "      <td>0.13280</td>\n",
              "      <td>0.1980</td>\n",
              "      <td>0.10430</td>\n",
              "      <td>0.1809</td>\n",
              "      <td>0.05883</td>\n",
              "      <td>0.7572</td>\n",
              "      <td>0.7813</td>\n",
              "      <td>5.438</td>\n",
              "      <td>94.44</td>\n",
              "      <td>0.011490</td>\n",
              "      <td>0.02461</td>\n",
              "      <td>0.05688</td>\n",
              "      <td>0.01885</td>\n",
              "      <td>0.01756</td>\n",
              "      <td>0.005115</td>\n",
              "      <td>22.54</td>\n",
              "      <td>16.67</td>\n",
              "      <td>152.20</td>\n",
              "      <td>1575.0</td>\n",
              "      <td>0.1374</td>\n",
              "      <td>0.2050</td>\n",
              "      <td>0.4000</td>\n",
              "      <td>0.1625</td>\n",
              "      <td>0.2364</td>\n",
              "      <td>0.07678</td>\n",
              "    </tr>\n",
              "  </tbody>\n",
              "</table>\n",
              "</div>"
            ],
            "text/plain": [
              "   diagnosis  radius_mean  ...  symmetry_worst  fractal_dimension_worst\n",
              "0          1        17.99  ...          0.4601                  0.11890\n",
              "1          1        20.57  ...          0.2750                  0.08902\n",
              "2          1        19.69  ...          0.3613                  0.08758\n",
              "3          1        11.42  ...          0.6638                  0.17300\n",
              "4          1        20.29  ...          0.2364                  0.07678\n",
              "\n",
              "[5 rows x 31 columns]"
            ]
          },
          "metadata": {
            "tags": []
          },
          "execution_count": 35
        }
      ]
    },
    {
      "cell_type": "code",
      "metadata": {
        "id": "tk_43POv3o8z",
        "colab_type": "code",
        "colab": {}
      },
      "source": [
        "# Look at the whole table\n",
        "df"
      ],
      "execution_count": 0,
      "outputs": []
    },
    {
      "cell_type": "markdown",
      "metadata": {
        "id": "2XUn7NhG4QJo",
        "colab_type": "text"
      },
      "source": [
        "##Clean up our table"
      ]
    },
    {
      "cell_type": "code",
      "metadata": {
        "id": "qSQAcBmC4A0w",
        "colab_type": "code",
        "colab": {}
      },
      "source": [
        "df.drop('id', axis=1, inplace = True)\n",
        "df.drop(\"Unnamed: 32\",axis=1,inplace=True)"
      ],
      "execution_count": 0,
      "outputs": []
    },
    {
      "cell_type": "code",
      "metadata": {
        "id": "kUIS1lz_4PkI",
        "colab_type": "code",
        "colab": {}
      },
      "source": [
        "df['diagnosis'] = df['diagnosis'].map({'M':1,'B':0})\n"
      ],
      "execution_count": 0,
      "outputs": []
    },
    {
      "cell_type": "markdown",
      "metadata": {
        "id": "Ii3nvKHl4r3j",
        "colab_type": "text"
      },
      "source": [
        "## Choose our variables for the model\n"
      ]
    },
    {
      "cell_type": "code",
      "metadata": {
        "id": "Tl6Op9L74Xex",
        "colab_type": "code",
        "colab": {}
      },
      "source": [
        "# Modify this as you wish, to select the variables you want to include\n",
        "prediction_var = ['perimeter_mean', 'compactness_mean', 'concavity_mean']"
      ],
      "execution_count": 0,
      "outputs": []
    },
    {
      "cell_type": "markdown",
      "metadata": {
        "id": "Y6HgfsJr5JUR",
        "colab_type": "text"
      },
      "source": [
        "## Create our training and test set data"
      ]
    },
    {
      "cell_type": "code",
      "metadata": {
        "id": "54o6WKrx5OWL",
        "colab_type": "code",
        "colab": {}
      },
      "source": [
        "from sklearn.model_selection import train_test_split"
      ],
      "execution_count": 0,
      "outputs": []
    },
    {
      "cell_type": "code",
      "metadata": {
        "id": "ZdRtHgpg5Mg5",
        "colab_type": "code",
        "colab": {}
      },
      "source": [
        "train, test = train_test_split(df, test_size = 0.15)"
      ],
      "execution_count": 0,
      "outputs": []
    },
    {
      "cell_type": "code",
      "metadata": {
        "id": "sMOSm3EV5M6O",
        "colab_type": "code",
        "colab": {}
      },
      "source": [
        "train_x = train[prediction_var]\n",
        "train_y = train.diagnosis\n",
        "\n",
        "test_x = test[prediction_var]\n",
        "test_y = test.diagnosis"
      ],
      "execution_count": 0,
      "outputs": []
    },
    {
      "cell_type": "markdown",
      "metadata": {
        "id": "8TbNiK_e5UcY",
        "colab_type": "text"
      },
      "source": [
        "## Train our model"
      ]
    },
    {
      "cell_type": "code",
      "metadata": {
        "id": "oZSH1DiO5SeS",
        "colab_type": "code",
        "colab": {}
      },
      "source": [
        "# Import multiple options, to enable us to try out different classifiers\n",
        "\n",
        "from sklearn.neural_network import MLPClassifier\n",
        "from sklearn.ensemble import RandomForestClassifier\n",
        "from sklearn.neighbors import KNeighborsClassifier\n",
        "from sklearn.svm import SVC\n"
      ],
      "execution_count": 0,
      "outputs": []
    },
    {
      "cell_type": "markdown",
      "metadata": {
        "id": "71R7MDjv6mN5",
        "colab_type": "text"
      },
      "source": [
        "We will train a simple neural network:"
      ]
    },
    {
      "cell_type": "code",
      "metadata": {
        "id": "Sk5KVnVs59hH",
        "colab_type": "code",
        "colab": {}
      },
      "source": [
        "# Deciding on the model architecture, learning rate, etc\n",
        "\n",
        "model = MLPClassifier(solver='lbfgs', alpha=1e-5, hidden_layer_sizes=(5, 2))"
      ],
      "execution_count": 0,
      "outputs": []
    },
    {
      "cell_type": "code",
      "metadata": {
        "id": "SaOu6LtP6jaj",
        "colab_type": "code",
        "colab": {}
      },
      "source": [
        "# Training the model to fit the data in our training sets\n",
        "\n",
        "model.fit(train_x, train_y)"
      ],
      "execution_count": 0,
      "outputs": []
    },
    {
      "cell_type": "markdown",
      "metadata": {
        "id": "eMqS2LsA62KF",
        "colab_type": "text"
      },
      "source": [
        "## Testing our model on specific examples"
      ]
    },
    {
      "cell_type": "code",
      "metadata": {
        "id": "X23CKaRP63-M",
        "colab_type": "code",
        "colab": {}
      },
      "source": [
        "test_1 = test_x.iloc[0,0:3]\n"
      ],
      "execution_count": 0,
      "outputs": []
    },
    {
      "cell_type": "code",
      "metadata": {
        "id": "IKvW3WMA7cv8",
        "colab_type": "code",
        "colab": {}
      },
      "source": [
        "# We can see that 'test_1' was in row number 349 by the statement 'Name: 349'\n",
        "test_1"
      ],
      "execution_count": 0,
      "outputs": []
    },
    {
      "cell_type": "code",
      "metadata": {
        "id": "AxvIEkq_7NsO",
        "colab_type": "code",
        "colab": {}
      },
      "source": [
        "# Therefore, to see it's actual diagnosis we can use:\n",
        "\n",
        "df.loc[349,'diagnosis']"
      ],
      "execution_count": 0,
      "outputs": []
    },
    {
      "cell_type": "code",
      "metadata": {
        "id": "MthpkY9L7PS8",
        "colab_type": "code",
        "colab": {}
      },
      "source": [
        "# Now, let's test our model...\n",
        "\n",
        "model.predict([test_1])"
      ],
      "execution_count": 0,
      "outputs": []
    },
    {
      "cell_type": "code",
      "metadata": {
        "id": "c0A6_WW27SGg",
        "colab_type": "code",
        "colab": {}
      },
      "source": [
        "# Let's try two more test points\n",
        "\n",
        "test_2 = test_x.iloc[1,0:3]\n",
        "test_3 = test_x.iloc[45,0:3]"
      ],
      "execution_count": 0,
      "outputs": []
    },
    {
      "cell_type": "code",
      "metadata": {
        "id": "j4G0oTMR7YCK",
        "colab_type": "code",
        "colab": {}
      },
      "source": [
        "test_2"
      ],
      "execution_count": 0,
      "outputs": []
    },
    {
      "cell_type": "code",
      "metadata": {
        "id": "vAdVSQ_y8SsQ",
        "colab_type": "code",
        "colab": {}
      },
      "source": [
        "test_3"
      ],
      "execution_count": 0,
      "outputs": []
    },
    {
      "cell_type": "code",
      "metadata": {
        "id": "Ll72B2L88TU4",
        "colab_type": "code",
        "colab": {}
      },
      "source": [
        "df.loc[430,'diagnosis']\n"
      ],
      "execution_count": 0,
      "outputs": []
    },
    {
      "cell_type": "code",
      "metadata": {
        "id": "7pt30xBX8j2A",
        "colab_type": "code",
        "colab": {}
      },
      "source": [
        "df.loc[524,'diagnosis']\n"
      ],
      "execution_count": 0,
      "outputs": []
    },
    {
      "cell_type": "code",
      "metadata": {
        "id": "cFkjeo5a83fA",
        "colab_type": "code",
        "colab": {}
      },
      "source": [
        "# Then test the model again\n",
        "model.predict([test_2])"
      ],
      "execution_count": 0,
      "outputs": []
    },
    {
      "cell_type": "code",
      "metadata": {
        "id": "VsaBJzcR88aQ",
        "colab_type": "code",
        "colab": {}
      },
      "source": [
        "model.predict([test_3])"
      ],
      "execution_count": 0,
      "outputs": []
    },
    {
      "cell_type": "markdown",
      "metadata": {
        "id": "C7gNRoe6_k0G",
        "colab_type": "text"
      },
      "source": [
        "## Calculate our performance metrics"
      ]
    },
    {
      "cell_type": "code",
      "metadata": {
        "id": "0fs2LVc89MHI",
        "colab_type": "code",
        "colab": {}
      },
      "source": [
        "from sklearn import metrics"
      ],
      "execution_count": 0,
      "outputs": []
    },
    {
      "cell_type": "code",
      "metadata": {
        "id": "5tpyEfSJAWFs",
        "colab_type": "code",
        "colab": {}
      },
      "source": [
        "y_true = test_y\n",
        "y_pred = model.predict(test_x)"
      ],
      "execution_count": 0,
      "outputs": []
    },
    {
      "cell_type": "code",
      "metadata": {
        "id": "DRMMai1hAMQq",
        "colab_type": "code",
        "colab": {}
      },
      "source": [
        "from sklearn.metrics import recall_score\n",
        "from sklearn.metrics import precision_score\n",
        "\n",
        "recall = recall_score(y_true, y_pred)\n",
        "precision = precision_score(y_true, y_pred)\n",
        "\n",
        "print(\"The recall score is \", \"%.2f\" %recall)\n",
        "print(\"The precision score is \", \"%.2f\" %precision)"
      ],
      "execution_count": 0,
      "outputs": []
    },
    {
      "cell_type": "markdown",
      "metadata": {
        "id": "adKPWdrQBT86",
        "colab_type": "text"
      },
      "source": [
        "The equation for F1 score is:\n",
        "\n",
        "![F1 equation](https://wikimedia.org/api/rest_v1/media/math/render/svg/1bf179c30b00db201ce1895d88fe2915d58e6bfd)\n",
        "\n"
      ]
    },
    {
      "cell_type": "code",
      "metadata": {
        "id": "xSgjYLNXBges",
        "colab_type": "code",
        "outputId": "5ae24959-e451-430e-cda1-1603cc04a651",
        "colab": {
          "base_uri": "https://localhost:8080/",
          "height": 34
        }
      },
      "source": [
        "# Therefore, we can calculate it this way:\n",
        "F1 = 2 * (precision * recall) / (precision + recall)\n",
        "print(\"%.2f\" %F1)"
      ],
      "execution_count": 0,
      "outputs": [
        {
          "output_type": "stream",
          "text": [
            "0.92\n"
          ],
          "name": "stdout"
        }
      ]
    },
    {
      "cell_type": "code",
      "metadata": {
        "id": "kpKKM1EeAjwh",
        "colab_type": "code",
        "colab": {}
      },
      "source": [
        "# Or this way:\n",
        "from sklearn.metrics import f1_score\n",
        "\n",
        "f1_score = f1_score(y_true, y_pred)\n",
        "\n",
        "print(\"The f1 score is \", \"%.2f\" %f1_score)\n"
      ],
      "execution_count": 0,
      "outputs": []
    },
    {
      "cell_type": "code",
      "metadata": {
        "id": "fIHWqdQmAkL7",
        "colab_type": "code",
        "colab": {}
      },
      "source": [
        "# And finally, accuracy and AUC:\n",
        "\n",
        "from sklearn.metrics import accuracy_score\n",
        "from sklearn.metrics import roc_auc_score \n",
        "\n",
        "accuracy = accuracy_score(y_true, y_pred)\n",
        "AUC = roc_auc_score(y_true, y_pred)\n",
        "\n",
        "print(\"The accuracy is \", \"%.2f\" %accuracy)\n",
        "print(\"The AUC is \", \"%.2f\" %AUC)\n"
      ],
      "execution_count": 0,
      "outputs": []
    },
    {
      "cell_type": "markdown",
      "metadata": {
        "id": "r2lE3LI0DWeF",
        "colab_type": "text"
      },
      "source": [
        "## Create a 'confusion matrix'"
      ]
    },
    {
      "cell_type": "code",
      "metadata": {
        "id": "oXhIGmxMDZlj",
        "colab_type": "code",
        "colab": {}
      },
      "source": [
        "from sklearn.metrics import confusion_matrix\n"
      ],
      "execution_count": 0,
      "outputs": []
    },
    {
      "cell_type": "code",
      "metadata": {
        "id": "OIdLcxNvDbsS",
        "colab_type": "code",
        "colab": {}
      },
      "source": [
        "confusion_matrix = confusion_matrix(y_true, y_pred)\n"
      ],
      "execution_count": 0,
      "outputs": []
    },
    {
      "cell_type": "code",
      "metadata": {
        "id": "IINx3rOMDwMQ",
        "colab_type": "code",
        "colab": {}
      },
      "source": [
        "confusion_matrix"
      ],
      "execution_count": 0,
      "outputs": []
    },
    {
      "cell_type": "markdown",
      "metadata": {
        "id": "LpX3d6WTF40t",
        "colab_type": "text"
      },
      "source": [
        "## Now let's try some other classification methods!\n",
        "\n",
        "Go back to the 'Training our model' section and try the following classifiers:\n",
        "- Random Forest\n",
        "- Nearest Neighbours\n",
        "- Support Vector Machine\n",
        "\n",
        "Use the [scikit-learn](https://scikit-learn.org/) documentation as required.\n",
        "\n",
        "Compare the performance metrics and see which performs best!\n",
        "\n",
        "## Next steps\n",
        "\n",
        "Once you've tried all of the above, try modifying the features selected and the hyperparameters (learning rate, train/test split) and see how this affects performance.\n"
      ]
    },
    {
      "cell_type": "code",
      "metadata": {
        "id": "dSnoyu1hHAsR",
        "colab_type": "code",
        "colab": {}
      },
      "source": [
        ""
      ],
      "execution_count": 0,
      "outputs": []
    }
  ]
}